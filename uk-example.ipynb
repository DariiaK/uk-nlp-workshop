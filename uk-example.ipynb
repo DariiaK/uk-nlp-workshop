{
 "cells": [
  {
   "cell_type": "markdown",
   "metadata": {},
   "source": [
    "# Автоматичне опрацювання української мови"
   ]
  },
  {
   "cell_type": "markdown",
   "metadata": {},
   "source": [
    "## 1. Сегментація тексту"
   ]
  },
  {
   "cell_type": "markdown",
   "metadata": {},
   "source": [
    "Прочитаймо текст \"Тигроловів\":"
   ]
  },
  {
   "cell_type": "code",
   "execution_count": 1,
   "metadata": {},
   "outputs": [
    {
     "name": "stdout",
     "output_type": "stream",
     "text": [
      "У тексті є 476213 символів.\n"
     ]
    }
   ],
   "source": [
    "with open(\"data/tyhrolovy.txt\", \"r\") as f:\n",
    "    tyhrolovy_raw = f.read()\n",
    "\n",
    "print(\"У тексті є {} символів.\".format(len(tyhrolovy_raw)))"
   ]
  },
  {
   "cell_type": "code",
   "execution_count": 2,
   "metadata": {},
   "outputs": [
    {
     "name": "stdout",
     "output_type": "stream",
     "text": [
      "Тигролови\n",
      "Іван Багряний\n",
      "ЧАСТИНА ПЕРША\n",
      "\n",
      "Розділ перший\n",
      "\n",
      "ДРАКОН\n",
      "\n",
      "...Вирячивши вогненні очі, дихаючи полум'ям і димом, потрясаючи ревом пустелі і нетра і вогненним хвостом замітаючи слід, летів дракон.\n",
      "\n",
      "Н\n"
     ]
    }
   ],
   "source": [
    "print(tyhrolovy_raw[:200])"
   ]
  },
  {
   "cell_type": "markdown",
   "metadata": {},
   "source": [
    "**Сирий текст** варто сегментувати на абзаци, речення, слова. Для цього використаємо бібліотеку [tokenize_uk](https://github.com/lang-uk/tokenize-uk).\n",
    "\n",
    "Як ви гадаєте:\n",
    "- які бувають складнощі автоматичного розбиття тексту на речення?\n",
    "- які бувають складнощі автоматичного розбиття тексту на слова?\n",
    "- які бувають складнощі автоматичного розбиття тексту на абзаци?"
   ]
  },
  {
   "cell_type": "code",
   "execution_count": 3,
   "metadata": {},
   "outputs": [],
   "source": [
    "import tokenize_uk"
   ]
  },
  {
   "cell_type": "code",
   "execution_count": 4,
   "metadata": {},
   "outputs": [
    {
     "name": "stdout",
     "output_type": "stream",
     "text": [
      "У тексті є 99709 слів.\n",
      "\n",
      "['Тигролови', 'Іван', 'Багряний', 'ЧАСТИНА', 'ПЕРША', 'Розділ', 'перший', 'ДРАКОН', '...', 'Вирячивши', 'вогненні', 'очі', ',', 'дихаючи', \"полум'ям\", 'і', 'димом', ',', 'потрясаючи', 'ревом', 'пустелі', 'і', 'нетра', 'і', 'вогненним', 'хвостом', 'замітаючи', 'слід', ',', 'летів', 'дракон', '.', 'Не', 'з', 'китайських', 'казок', 'і', 'не', 'з', 'пагод']\n"
     ]
    }
   ],
   "source": [
    "tyhrolovy_words = tokenize_uk.tokenize_words(tyhrolovy_raw)\n",
    "\n",
    "print(\"У тексті є {} слів.\".format(len(tyhrolovy_words)))\n",
    "print()\n",
    "print(tyhrolovy_words[:40])"
   ]
  },
  {
   "cell_type": "code",
   "execution_count": 5,
   "metadata": {},
   "outputs": [
    {
     "name": "stdout",
     "output_type": "stream",
     "text": [
      "[['Тигролови']]\n",
      "[['Іван', 'Багряний']]\n",
      "[['ЧАСТИНА', 'ПЕРША']]\n",
      "[['Розділ', 'перший']]\n",
      "[['ДРАКОН']]\n",
      "[['...', 'Вирячивши', 'вогненні', 'очі', ',', 'дихаючи', \"полум'ям\", 'і', 'димом', ',', 'потрясаючи', 'ревом', 'пустелі', 'і', 'нетра', 'і', 'вогненним', 'хвостом', 'замітаючи', 'слід', ',', 'летів', 'дракон', '.']]\n",
      "[['Не', 'з', 'китайських', 'казок', 'і', 'не', 'з', 'пагод', 'Тібету', '—', 'він', 'знявся', 'десь', 'з', 'громохкого', 'центру', 'країни', '\"', 'чудес', '\"', ',', 'вилетів', 'з', 'чорного', 'пекла', 'землі', 'людоловів', 'і', 'гнав', 'над', 'просторами', '...'], ['Над', 'безмежжям', 'Уралу', '...'], ['Через', 'хащі', 'Сибіру', '...'], ['Через', 'грізний', ',', 'понурий', 'Байкал', '...'], ['Через', 'дикі', 'кряжі', 'Зайбакалля', '...'], ['Через', 'Становий', 'хребет', ',', '—', 'звивався', 'над', 'ним', 'межи', 'скель', 'і', 'шпилів', '...'], ['Високо', 'в', 'небі', ',', 'сіючи', 'іскри', 'й', 'сморід', ',', 'летів', 'і', 'летів', 'у', 'безмежній', 'ночі', '.']]\n",
      "[['...', 'Палахкотів', 'над', 'проваллями', '...'], ['Звивався', 'над', 'прірвами', '...'], ['Пролітав', 'із', 'свистом', 'спіраллю', 'над', 'диким', 'бескиддям', 'і', 'нагло', 'зникав', 'десь', 'у', 'надрах', 'землі', '—', 'занурювався', ',', 'як', 'вогненноокий', 'хробак', ',', 'зі', 'скреготом', 'і', 'хряском', 'у', 'груди', 'скелястих', 'гір', ',', 'свердлив', 'їх', 'з', 'блискавичною', 'швидкістю', ',', 'розсипаючи', 'іскри', '.'], ['Зникав', '...'], ['І', 'раптом', 'вилітав', 'з', '-', 'під', 'землі', 'далеко', ',', 'мов', 'пекельна', 'потвора', ',', 'потрясаючи', 'реготом', 'ніч', '.'], ['Пряв', 'вогненними', 'очима', ',', 'зойкав', 'несамовито', 'і', ',', 'вихаючи', 'хвостом', ',', 'як', 'комета', ',', 'летів', 'і', 'летів', '...']]\n"
     ]
    }
   ],
   "source": [
    "tyhrolovy_tokenized = tokenize_uk.tokenize_text(tyhrolovy_raw)\n",
    "\n",
    "for i in tyhrolovy_tokenized[:8]:\n",
    "    print(i)"
   ]
  },
  {
   "cell_type": "markdown",
   "metadata": {},
   "source": [
    "## 2. Частиномовний аналіз"
   ]
  },
  {
   "cell_type": "markdown",
   "metadata": {},
   "source": [
    "Поговорімо про складнощі автоматичного частиномовного аналізу:\n",
    "- які слова можуть позначати різні частини мови?\n",
    "- які частини мови може позначати словоформа *\"край\"*? *\"прав\"*? *\"багатій\"*?\n",
    "- чи є неоднозначність у фразі *\"коло друзів та незнайомців\"*?"
   ]
  },
  {
   "attachments": {},
   "cell_type": "markdown",
   "metadata": {},
   "source": [
    "Більше прикладів:\n",
    "\n",
    "<img src=\"img/ambiguous-pos.png\" alt=\"Приклади слів, що позначають кілька частин мови\" width=\"40%\" height=\"40%\" align=\"left\"/>"
   ]
  },
  {
   "cell_type": "markdown",
   "metadata": {},
   "source": [
    "Бібліотека [pymorphy2](https://github.com/kmike/pymorphy2) надає всі можливі варіанти розбору кожного слова, проте не визначає правильний розбір у контексті."
   ]
  },
  {
   "cell_type": "code",
   "execution_count": 6,
   "metadata": {},
   "outputs": [],
   "source": [
    "import pymorphy2\n",
    "morph = pymorphy2.MorphAnalyzer(lang='uk')"
   ]
  },
  {
   "cell_type": "code",
   "execution_count": 7,
   "metadata": {},
   "outputs": [
    {
     "data": {
      "text/plain": [
       "[Parse(word='стіл', tag=OpencorporaTag('NOUN,inan masc,nomn'), normal_form='стіл', score=1.0, methods_stack=((DictionaryAnalyzer(), 'стіл', 2710, 0),)),\n",
       " Parse(word='стіл', tag=OpencorporaTag('NOUN,inan masc,accs'), normal_form='стіл', score=1.0, methods_stack=((DictionaryAnalyzer(), 'стіл', 2710, 5),))]"
      ]
     },
     "execution_count": 7,
     "metadata": {},
     "output_type": "execute_result"
    }
   ],
   "source": [
    "morph.parse(\"стіл\")"
   ]
  },
  {
   "cell_type": "code",
   "execution_count": 8,
   "metadata": {},
   "outputs": [
    {
     "data": {
      "text/plain": [
       "[Parse(word='прав', tag=OpencorporaTag('NOUN,inan plur,gent'), normal_form='право', score=1.0, methods_stack=((DictionaryAnalyzer(), 'прав', 22, 9),)),\n",
       " Parse(word='прав', tag=OpencorporaTag('VERB,impf sing,2per,impr'), normal_form='правити', score=1.0, methods_stack=((DictionaryAnalyzer(), 'прав', 302, 2),)),\n",
       " Parse(word='прав', tag=OpencorporaTag('VERB,impf masc,past'), normal_form='прати', score=1.0, methods_stack=((DictionaryAnalyzer(), 'прав', 571, 20),))]"
      ]
     },
     "execution_count": 8,
     "metadata": {},
     "output_type": "execute_result"
    }
   ],
   "source": [
    "morph.parse(\"прав\")"
   ]
  },
  {
   "cell_type": "code",
   "execution_count": 9,
   "metadata": {},
   "outputs": [
    {
     "data": {
      "text/plain": [
       "[Parse(word='багатій', tag=OpencorporaTag('ADJF,compb femn,datv'), normal_form='багатий', score=1.0, methods_stack=((DictionaryAnalyzer(), 'багатій', 76, 11),)),\n",
       " Parse(word='багатій', tag=OpencorporaTag('ADJF,compb femn,loct'), normal_form='багатий', score=1.0, methods_stack=((DictionaryAnalyzer(), 'багатій', 76, 14),)),\n",
       " Parse(word='багатій', tag=OpencorporaTag('VERB,impf sing,2per,impr'), normal_form='багатіти', score=1.0, methods_stack=((DictionaryAnalyzer(), 'багатій', 121, 2),)),\n",
       " Parse(word='багатій', tag=OpencorporaTag('NOUN,anim masc,nomn'), normal_form='багатій', score=1.0, methods_stack=((DictionaryAnalyzer(), 'багатій', 128, 0),))]"
      ]
     },
     "execution_count": 9,
     "metadata": {},
     "output_type": "execute_result"
    }
   ],
   "source": [
    "morph.parse(\"багатій\")"
   ]
  },
  {
   "cell_type": "code",
   "execution_count": 10,
   "metadata": {},
   "outputs": [],
   "source": [
    "# Випробуйте інші слова. Гляньте на аналіз багатозначних слів (\"до\", \"того\") та нестандартних слів (\"євробляха\")."
   ]
  },
  {
   "cell_type": "markdown",
   "metadata": {},
   "source": [
    "#### Як із цим працювати?"
   ]
  },
  {
   "cell_type": "code",
   "execution_count": 11,
   "metadata": {},
   "outputs": [
    {
     "data": {
      "text/plain": [
       "Parse(word='багатій', tag=OpencorporaTag('ADJF,compb femn,datv'), normal_form='багатий', score=1.0, methods_stack=((DictionaryAnalyzer(), 'багатій', 76, 11),))"
      ]
     },
     "execution_count": 11,
     "metadata": {},
     "output_type": "execute_result"
    }
   ],
   "source": [
    "morph.parse(\"багатій\")[0]"
   ]
  },
  {
   "cell_type": "code",
   "execution_count": 12,
   "metadata": {},
   "outputs": [
    {
     "data": {
      "text/plain": [
       "'багатий'"
      ]
     },
     "execution_count": 12,
     "metadata": {},
     "output_type": "execute_result"
    }
   ],
   "source": [
    "morph.parse(\"багатій\")[0].normal_form"
   ]
  },
  {
   "cell_type": "code",
   "execution_count": 13,
   "metadata": {},
   "outputs": [
    {
     "data": {
      "text/plain": [
       "OpencorporaTag('ADJF,compb femn,datv')"
      ]
     },
     "execution_count": 13,
     "metadata": {},
     "output_type": "execute_result"
    }
   ],
   "source": [
    "morph.parse(\"багатій\")[0].tag"
   ]
  },
  {
   "cell_type": "code",
   "execution_count": 14,
   "metadata": {},
   "outputs": [
    {
     "data": {
      "text/plain": [
       "'ADJF'"
      ]
     },
     "execution_count": 14,
     "metadata": {},
     "output_type": "execute_result"
    }
   ],
   "source": [
    "morph.parse(\"багатій\")[0].tag.POS"
   ]
  },
  {
   "cell_type": "code",
   "execution_count": 15,
   "metadata": {},
   "outputs": [
    {
     "data": {
      "text/plain": [
       "'femn'"
      ]
     },
     "execution_count": 15,
     "metadata": {},
     "output_type": "execute_result"
    }
   ],
   "source": [
    "morph.parse(\"багатій\")[0].tag.gender"
   ]
  },
  {
   "cell_type": "code",
   "execution_count": 16,
   "metadata": {},
   "outputs": [],
   "source": [
    "morph.parse(\"багатій\")[0].tag.animacy"
   ]
  },
  {
   "cell_type": "code",
   "execution_count": 17,
   "metadata": {},
   "outputs": [
    {
     "data": {
      "text/plain": [
       "'anim'"
      ]
     },
     "execution_count": 17,
     "metadata": {},
     "output_type": "execute_result"
    }
   ],
   "source": [
    "morph.parse(\"багатій\")[3].tag.animacy"
   ]
  },
  {
   "cell_type": "markdown",
   "metadata": {},
   "source": [
    "Погляньмо на леми першого речення \"Тигроловів\":"
   ]
  },
  {
   "cell_type": "code",
   "execution_count": 18,
   "metadata": {},
   "outputs": [
    {
     "name": "stdout",
     "output_type": "stream",
     "text": [
      "Вирячивши \tвирячивши\n",
      "вогненні  \tвогненний\n",
      "очі       \tоко\n",
      ",         \t,\n",
      "дихаючи   \tдихаючи\n",
      "полум'ям  \tполум'я\n",
      "і         \tі\n",
      "димом     \tдим\n",
      ",         \t,\n",
      "потрясаючи\tпотрясаючи\n",
      "ревом     \tрев\n",
      "пустелі   \tпустеля\n",
      "і         \tі\n",
      "нетра     \tнетра\n",
      "і         \tі\n",
      "вогненним \tвогненний\n",
      "хвостом   \tхвіст\n",
      "замітаючи \tзамітаючи\n",
      "слід      \tслід\n",
      ",         \t,\n",
      "летів     \tлетіти\n",
      "дракон    \tдракон\n",
      ".         \t.\n"
     ]
    }
   ],
   "source": [
    "for word in tyhrolovy_words[9:32]:\n",
    "    parsed_word = morph.parse(word)[0]\n",
    "    print(\"{:10}\\t{}\".format(word, parsed_word.normal_form))"
   ]
  },
  {
   "cell_type": "code",
   "execution_count": 19,
   "metadata": {},
   "outputs": [
    {
     "name": "stdout",
     "output_type": "stream",
     "text": [
      "Вирячивши \tвирячивши \tGRND\n",
      "вогненні  \tвогненний \tADJF\n",
      "очі       \tоко       \tNOUN\n",
      ",         \t,         \tNone\n",
      "дихаючи   \tдихаючи   \tGRND\n",
      "полум'ям  \tполум'я   \tNOUN\n",
      "і         \tі         \tCONJ\n",
      "димом     \tдим       \tNOUN\n",
      ",         \t,         \tNone\n",
      "потрясаючи\tпотрясаючи\tGRND\n",
      "ревом     \tрев       \tNOUN\n",
      "пустелі   \tпустеля   \tNOUN\n",
      "і         \tі         \tCONJ\n",
      "нетра     \tнетра     \tNone\n",
      "і         \tі         \tCONJ\n",
      "вогненним \tвогненний \tADJF\n",
      "хвостом   \tхвіст     \tNOUN\n",
      "замітаючи \tзамітаючи \tGRND\n",
      "слід      \tслід      \tNOUN\n",
      ",         \t,         \tNone\n",
      "летів     \tлетіти    \tVERB\n",
      "дракон    \tдракон    \tNOUN\n",
      ".         \t.         \tNone\n"
     ]
    }
   ],
   "source": [
    "for word in tyhrolovy_words[9:32]:\n",
    "    parsed_word = morph.parse(word)[0]\n",
    "    print(\"{:10}\\t{:10}\\t{}\".format(word, parsed_word.normal_form, parsed_word.tag.POS))"
   ]
  },
  {
   "cell_type": "markdown",
   "metadata": {},
   "source": [
    "## 3. Частотний аналіз тексту"
   ]
  },
  {
   "cell_type": "markdown",
   "metadata": {},
   "source": [
    "#### Проведімо аналіз усіх слів у творах *\"Тигролови\"* та *\"Собор\"*:"
   ]
  },
  {
   "cell_type": "code",
   "execution_count": 20,
   "metadata": {},
   "outputs": [
    {
     "name": "stdout",
     "output_type": "stream",
     "text": [
      "У тексті є 111067 слів.\n"
     ]
    }
   ],
   "source": [
    "with open(\"data/sobor.txt\", \"r\") as f:\n",
    "    sobor_raw = f.read()\n",
    "    sobor_words = tokenize_uk.tokenize_words(sobor_raw)\n",
    "\n",
    "print(\"У тексті є {} слів.\".format(len(sobor_words)))"
   ]
  },
  {
   "cell_type": "code",
   "execution_count": 21,
   "metadata": {},
   "outputs": [],
   "source": [
    "corpus_t = [morph.parse(word)[0] for word in tyhrolovy_words]"
   ]
  },
  {
   "cell_type": "code",
   "execution_count": 22,
   "metadata": {},
   "outputs": [],
   "source": [
    "corpus_s = [morph.parse(word)[0] for word in sobor_words]"
   ]
  },
  {
   "cell_type": "markdown",
   "metadata": {},
   "source": [
    "#### Як знайти найчастотніші слова в романі?"
   ]
  },
  {
   "cell_type": "code",
   "execution_count": 23,
   "metadata": {},
   "outputs": [],
   "source": [
    "from collections import Counter\n",
    "\n",
    "def most_freq(corpus, n):\n",
    "    \"Return the most common words.\"\n",
    "    words = Counter()\n",
    "    for word in corpus:\n",
    "        words[word.word] += 1\n",
    "    return words.most_common(n)"
   ]
  },
  {
   "cell_type": "code",
   "execution_count": 24,
   "metadata": {},
   "outputs": [
    {
     "data": {
      "text/plain": [
       "[(',', 10124),\n",
       " ('.', 5783),\n",
       " ('і', 3134),\n",
       " ('—', 2840),\n",
       " ('...', 1516),\n",
       " ('на', 1484),\n",
       " ('не', 1325),\n",
       " ('а', 1246),\n",
       " ('\"', 1215),\n",
       " ('в', 1182),\n",
       " ('з', 1080),\n",
       " ('як', 944),\n",
       " ('!', 867),\n",
       " ('що', 836),\n",
       " ('та', 755),\n",
       " ('й', 663),\n",
       " ('-', 598),\n",
       " ('у', 537),\n",
       " ('до', 529),\n",
       " ('він', 521)]"
      ]
     },
     "execution_count": 24,
     "metadata": {},
     "output_type": "execute_result"
    }
   ],
   "source": [
    "most_freq(corpus_t, 20)"
   ]
  },
  {
   "cell_type": "markdown",
   "metadata": {},
   "source": [
    "Як можна покращити функцію **most_freq**?"
   ]
  },
  {
   "cell_type": "code",
   "execution_count": 25,
   "metadata": {},
   "outputs": [],
   "source": [
    "def most_freq(corpus, n):\n",
    "    \"Return the most common lemmas.\"\n",
    "    words = Counter()\n",
    "    for word in corpus:\n",
    "        if word.tag.POS in {\"NOUN\", \"VERB\", \"ADJF\"}:\n",
    "            words[word.normal_form] += 1\n",
    "    return words.most_common(n)"
   ]
  },
  {
   "cell_type": "code",
   "execution_count": 26,
   "metadata": {},
   "outputs": [
    {
     "data": {
      "text/plain": [
       "[('бути', 703),\n",
       " ('до', 529),\n",
       " ('григорій', 423),\n",
       " ('йога', 316),\n",
       " ('наталка', 225),\n",
       " ('око', 224),\n",
       " ('старий', 214),\n",
       " ('про', 186),\n",
       " ('рука', 174),\n",
       " ('дивитися', 158),\n",
       " ('знати', 152),\n",
       " ('піти', 151),\n",
       " ('бачити', 149),\n",
       " ('голова', 144),\n",
       " ('стояти', 143),\n",
       " ('хлопець', 135),\n",
       " ('йти', 129),\n",
       " ('тога', 123),\n",
       " ('сірко', 123),\n",
       " ('мати', 122)]"
      ]
     },
     "execution_count": 26,
     "metadata": {},
     "output_type": "execute_result"
    }
   ],
   "source": [
    "most_freq(corpus_t, 20)"
   ]
  },
  {
   "cell_type": "code",
   "execution_count": 27,
   "metadata": {},
   "outputs": [],
   "source": [
    "COMMONLY_CONFUSED = {'бути', 'до', 'йога', 'мен', 'перед', 'про', 'тога'}\n",
    "\n",
    "def most_freq(corpus, n):\n",
    "    \"Return the most common lemmas.\"\n",
    "    words = Counter()\n",
    "    for word in corpus:\n",
    "        if word.tag.POS in {\"NOUN\", \"VERB\", \"ADJF\"} and word.normal_form not in COMMONLY_CONFUSED:\n",
    "            words[word.normal_form] += 1\n",
    "    return words.most_common(n)"
   ]
  },
  {
   "cell_type": "code",
   "execution_count": 28,
   "metadata": {},
   "outputs": [
    {
     "data": {
      "text/plain": [
       "[('григорій', 423),\n",
       " ('наталка', 225),\n",
       " ('око', 224),\n",
       " ('старий', 214),\n",
       " ('рука', 174),\n",
       " ('дивитися', 158),\n",
       " ('знати', 152),\n",
       " ('піти', 151),\n",
       " ('бачити', 149),\n",
       " ('голова', 144),\n",
       " ('стояти', 143),\n",
       " ('хлопець', 135),\n",
       " ('йти', 129),\n",
       " ('сірко', 123),\n",
       " ('мати', 122),\n",
       " ('раз', 120),\n",
       " ('світ', 117),\n",
       " ('грицько', 115),\n",
       " ('гриць', 114),\n",
       " ('вода', 113)]"
      ]
     },
     "execution_count": 28,
     "metadata": {},
     "output_type": "execute_result"
    }
   ],
   "source": [
    "most_freq(corpus_t, 20)"
   ]
  },
  {
   "cell_type": "code",
   "execution_count": 29,
   "metadata": {},
   "outputs": [
    {
     "data": {
      "text/plain": [
       "[('собор', 289),\n",
       " ('єлька', 243),\n",
       " ('час', 195),\n",
       " ('життя', 189),\n",
       " ('люди', 168),\n",
       " ('мати', 162),\n",
       " ('сказати', 157),\n",
       " ('око', 157),\n",
       " ('лобода', 157),\n",
       " ('рука', 149),\n",
       " ('старий', 144),\n",
       " ('тобі', 141),\n",
       " ('знати', 139),\n",
       " ('баглай', 133),\n",
       " ('бачити', 130),\n",
       " ('ніч', 129),\n",
       " ('зараза', 123),\n",
       " ('людина', 116),\n",
       " ('небо', 115),\n",
       " ('треба', 114)]"
      ]
     },
     "execution_count": 29,
     "metadata": {},
     "output_type": "execute_result"
    }
   ],
   "source": [
    "most_freq(corpus_s, 20)"
   ]
  },
  {
   "cell_type": "markdown",
   "metadata": {},
   "source": [
    "#### Як знайти найчастотніші колокації в романі?"
   ]
  },
  {
   "cell_type": "code",
   "execution_count": 30,
   "metadata": {},
   "outputs": [],
   "source": [
    "def most_freq_colloc(corpus, n):\n",
    "    \"Return the most common adjective-noun collocations.\"\n",
    "    collocs = Counter()\n",
    "    for i in range(1, len(corpus)):\n",
    "        word = corpus[i]\n",
    "        prev_word = corpus[i-1]\n",
    "        if word.tag.POS == \"NOUN\" and prev_word.tag.POS == \"ADJF\":\n",
    "            collocs[(prev_word.normal_form, word.normal_form)] += 1\n",
    "    return collocs.most_common(n)"
   ]
  },
  {
   "cell_type": "code",
   "execution_count": 31,
   "metadata": {},
   "outputs": [
    {
     "data": {
      "text/plain": [
       "[(('старий', 'сірко'), 84),\n",
       " (('старий', 'мороз'), 10),\n",
       " (('дівочий', 'голос'), 9),\n",
       " (('цілий', 'світ'), 7),\n",
       " (('осяяний', 'сонце'), 6),\n",
       " (('скажений', 'поїзд'), 6),\n",
       " (('подібний', 'до'), 6),\n",
       " (('золотий', 'ельдорадо'), 6),\n",
       " (('добрий', 'гумор'), 6),\n",
       " (('старий', 'сірчиха'), 6),\n",
       " (('голубий', 'падь'), 6),\n",
       " (('вогненний', 'хвіст'), 5),\n",
       " (('мерехтливий', 'око'), 5),\n",
       " (('блідий', 'обличчя'), 5),\n",
       " (('великий', 'начальник'), 5),\n",
       " (('шостий', 'частина'), 5),\n",
       " (('другий', 'кінець'), 5),\n",
       " (('височенний', 'кедр'), 5),\n",
       " (('другий', 'бока'), 5),\n",
       " (('другий', 'день'), 5)]"
      ]
     },
     "execution_count": 31,
     "metadata": {},
     "output_type": "execute_result"
    }
   ],
   "source": [
    "most_freq_colloc(corpus_t, 20)"
   ]
  },
  {
   "cell_type": "code",
   "execution_count": 32,
   "metadata": {},
   "outputs": [
    {
     "data": {
      "text/plain": [
       "[(('цілий', 'ніч'), 12),\n",
       " (('старий', 'металург'), 9),\n",
       " (('цілий', 'день'), 7),\n",
       " (('протилежний', 'берег'), 7),\n",
       " (('зоряний', 'вода'), 6),\n",
       " (('рідний', 'батько'), 6),\n",
       " (('робочий', 'місце'), 5),\n",
       " (('бурий', 'небо'), 4),\n",
       " (('український', 'металург'), 4),\n",
       " (('робітничий', 'передмістя'), 4),\n",
       " (('заводський', 'дим'), 4),\n",
       " (('козацький', 'собор'), 4),\n",
       " (('водний', 'станція'), 4),\n",
       " (('останній', 'час'), 4),\n",
       " (('старий', 'лобода'), 4),\n",
       " (('наступний', 'день'), 4),\n",
       " (('великий', 'луг'), 4),\n",
       " (('старий', 'обер'), 4),\n",
       " (('старий', 'люди'), 4),\n",
       " (('вічний', 'абсолют'), 4)]"
      ]
     },
     "execution_count": 32,
     "metadata": {},
     "output_type": "execute_result"
    }
   ],
   "source": [
    "most_freq_colloc(corpus_s, 20)"
   ]
  },
  {
   "cell_type": "code",
   "execution_count": 33,
   "metadata": {},
   "outputs": [],
   "source": [
    "def most_freq_colloc_for_noun(corpus, n, noun):\n",
    "    \"Return the most common adjective-noun collocations with a specified noun.\"\n",
    "    collocs = Counter()\n",
    "    for i in range(1, len(corpus)):\n",
    "        word = corpus[i]\n",
    "        prev_word = corpus[i-1]\n",
    "        if word.normal_form == noun and prev_word.tag.POS == \"ADJF\":\n",
    "            collocs[(prev_word.normal_form, word.normal_form)] += 1\n",
    "    return collocs.most_common(n)"
   ]
  },
  {
   "cell_type": "code",
   "execution_count": 34,
   "metadata": {},
   "outputs": [
    {
     "data": {
      "text/plain": [
       "[(('вражий', 'дівчина'), 2),\n",
       " (('булий', 'дівчина'), 2),\n",
       " (('бистроокий', 'дівчина'), 1),\n",
       " (('ставний', 'дівчина'), 1),\n",
       " (('гостроязикий', 'дівчина'), 1),\n",
       " (('замріяний', 'дівчина'), 1),\n",
       " (('химерний', 'дівчина'), 1),\n",
       " (('вродливий', 'дівчина'), 1),\n",
       " (('лісовий', 'дівчина'), 1),\n",
       " (('гарний', 'дівчина'), 1),\n",
       " (('чорнявий', 'дівчина'), 1),\n",
       " (('вимучений', 'дівчина'), 1),\n",
       " (('чистий', 'дівчина'), 1),\n",
       " (('незрозумілий', 'дівчина'), 1),\n",
       " (('балакучий', 'дівчина'), 1),\n",
       " (('бідолашний', 'дівчина'), 1)]"
      ]
     },
     "execution_count": 34,
     "metadata": {},
     "output_type": "execute_result"
    }
   ],
   "source": [
    "most_freq_colloc_for_noun(corpus_t, 20, \"дівчина\")"
   ]
  },
  {
   "cell_type": "code",
   "execution_count": 35,
   "metadata": {},
   "outputs": [
    {
     "data": {
      "text/plain": [
       "[(('осиротілий', 'дівчина'), 1),\n",
       " (('перспективний', 'дівчина'), 1),\n",
       " (('сільський', 'дівчина'), 1),\n",
       " (('розкудланий', 'дівчина'), 1)]"
      ]
     },
     "execution_count": 35,
     "metadata": {},
     "output_type": "execute_result"
    }
   ],
   "source": [
    "most_freq_colloc_for_noun(corpus_s, 20, \"дівчина\")"
   ]
  },
  {
   "cell_type": "code",
   "execution_count": 36,
   "metadata": {},
   "outputs": [],
   "source": [
    "# Спробуйте інші іменники, прикметники чи контексти."
   ]
  },
  {
   "cell_type": "code",
   "execution_count": 37,
   "metadata": {},
   "outputs": [],
   "source": [
    "def most_freq_colloc_for_adj(corpus, n, adj):\n",
    "    \"Return the most common adjective-noun collocations with a specified adjective.\"\n",
    "    collocs = Counter()\n",
    "    for i in range(1, len(corpus)):\n",
    "        word = corpus[i]\n",
    "        prev_word = corpus[i-1]\n",
    "        if word.tag.POS == \"NOUN\" and prev_word.normal_form == adj:\n",
    "            collocs[(prev_word.normal_form, word.normal_form)] += 1\n",
    "    return collocs.most_common(n)"
   ]
  },
  {
   "cell_type": "code",
   "execution_count": 38,
   "metadata": {},
   "outputs": [
    {
     "data": {
      "text/plain": [
       "[(('добрий', 'гумор'), 6),\n",
       " (('добрий', 'настрій'), 3),\n",
       " (('добрий', 'бінокль'), 2),\n",
       " (('добрий', 'дерево'), 1),\n",
       " (('добрий', 'кінь'), 1),\n",
       " (('добрий', 'ічага'), 1),\n",
       " (('добрий', 'кожух'), 1),\n",
       " (('добрий', 'обід'), 1),\n",
       " (('добрий', 'пес'), 1),\n",
       " (('добрий', 'гість'), 1),\n",
       " (('добрий', 'кім'), 1),\n",
       " (('добрий', 'приятель'), 1),\n",
       " (('добрий', 'хлопець'), 1),\n",
       " (('добрий', 'жовтяк'), 1),\n",
       " (('добрий', 'лошак'), 1),\n",
       " (('добрий', 'вдача'), 1)]"
      ]
     },
     "execution_count": 38,
     "metadata": {},
     "output_type": "execute_result"
    }
   ],
   "source": [
    "most_freq_colloc_for_adj(corpus_t, 20, \"добрий\")"
   ]
  },
  {
   "cell_type": "code",
   "execution_count": 39,
   "metadata": {},
   "outputs": [
    {
     "data": {
      "text/plain": [
       "[(('добрий', 'настрій'), 2),\n",
       " (('добрий', 'ранка'), 1),\n",
       " (('добрий', 'наждак'), 1),\n",
       " (('добрий', 'клімат'), 1),\n",
       " (('добрий', 'виробничник'), 1),\n",
       " (('добрий', 'хутір'), 1),\n",
       " (('добрий', 'тряска'), 1),\n",
       " (('добрий', 'гумор'), 1)]"
      ]
     },
     "execution_count": 39,
     "metadata": {},
     "output_type": "execute_result"
    }
   ],
   "source": [
    "most_freq_colloc_for_adj(corpus_s, 20, \"добрий\")"
   ]
  },
  {
   "cell_type": "code",
   "execution_count": 40,
   "metadata": {},
   "outputs": [],
   "source": [
    "def most_freq_colloc_anim(corpus, n):\n",
    "    \"Return the most common adjective-noun collocations with animate nouns.\"\n",
    "    collocs = Counter()\n",
    "    for i in range(1, len(corpus)):\n",
    "        word = corpus[i]\n",
    "        prev_word = corpus[i-1]\n",
    "        if word.tag.POS == \"NOUN\" and word.tag.animacy == \"anim\" and prev_word.tag.POS == \"ADJF\":\n",
    "            collocs[(prev_word.normal_form, word.normal_form)] += 1\n",
    "    return collocs.most_common(n)"
   ]
  },
  {
   "cell_type": "code",
   "execution_count": 41,
   "metadata": {},
   "outputs": [
    {
     "data": {
      "text/plain": [
       "[(('старий', 'сірко'), 84),\n",
       " (('великий', 'начальник'), 5),\n",
       " (('сонячний', 'зайчик'), 4),\n",
       " (('цибатий', 'зять'), 4),\n",
       " (('малий', 'дитина'), 3),\n",
       " (('якутський', 'пес'), 3),\n",
       " (('вражий', 'мама'), 3),\n",
       " (('безумний', 'сміливець'), 2),\n",
       " (('державний', 'злочинець'), 2),\n",
       " (('земний', 'кулі'), 2),\n",
       " (('владивостоцький', 'турок'), 2),\n",
       " (('дивний', 'бог'), 2),\n",
       " (('змучений', 'мандрівник'), 2),\n",
       " (('вражий', 'дівчина'), 2),\n",
       " (('знаменитий', 'мисливець'), 2),\n",
       " (('бісовий', 'віра'), 2),\n",
       " ((\"нав'ючений\", 'кінь'), 2),\n",
       " (('природний', 'солон'), 2),\n",
       " (('рясний', 'дуб'), 2),\n",
       " (('старий', 'мороз'), 2)]"
      ]
     },
     "execution_count": 41,
     "metadata": {},
     "output_type": "execute_result"
    }
   ],
   "source": [
    "most_freq_colloc_anim(corpus_t, 20)"
   ]
  },
  {
   "cell_type": "code",
   "execution_count": 42,
   "metadata": {},
   "outputs": [
    {
     "data": {
      "text/plain": [
       "[(('старий', 'металург'), 9),\n",
       " (('рідний', 'батько'), 6),\n",
       " (('український', 'металург'), 4),\n",
       " (('старий', 'люди'), 4),\n",
       " (('старший', 'брат'), 3),\n",
       " (('сліпий', 'танкіст'), 3),\n",
       " (('заслужений', 'металург'), 3),\n",
       " (('четвертий', 'домна'), 3),\n",
       " (('відповідальний', 'товариш'), 3),\n",
       " (('молодий', 'архітектор'), 3),\n",
       " (('сучасний', 'людина'), 3),\n",
       " (('білий', 'кінь'), 3),\n",
       " (('плавневий', 'лелеко'), 2),\n",
       " (('молодий', 'дружина'), 2),\n",
       " (('контрактований', 'студент'), 2),\n",
       " (('старий', 'баглаїса'), 2),\n",
       " (('золотий', 'зірка'), 2),\n",
       " (('найтяжчий', 'робот'), 2),\n",
       " (('перший', 'домна'), 2),\n",
       " (('двоюрідний', 'брат'), 2)]"
      ]
     },
     "execution_count": 42,
     "metadata": {},
     "output_type": "execute_result"
    }
   ],
   "source": [
    "most_freq_colloc_anim(corpus_s, 20)"
   ]
  },
  {
   "cell_type": "code",
   "execution_count": 43,
   "metadata": {},
   "outputs": [],
   "source": [
    "# Порівняйте колокації для іменників жіночого роду з колокаціями для іменників чоловічого роду."
   ]
  },
  {
   "cell_type": "code",
   "execution_count": 44,
   "metadata": {},
   "outputs": [],
   "source": [
    "def most_freq_prep_adj_noun(corpus, n):\n",
    "    \"Return the most common prep-adj-noun collocations.\"\n",
    "    collocs = Counter()\n",
    "    for i in range(2, len(corpus)):\n",
    "        word = corpus[i]\n",
    "        if word.tag.POS == \"NOUN\" and corpus[i-1].tag.POS == \"ADJF\" and corpus[i-2].tag.POS == \"PREP\":\n",
    "            collocs[(corpus[i-2].word, corpus[i-1].word, word.word)] += 1\n",
    "    return collocs.most_common(n)"
   ]
  },
  {
   "cell_type": "code",
   "execution_count": 45,
   "metadata": {},
   "outputs": [
    {
     "data": {
      "text/plain": [
       "[(('з', 'блискавичною', 'швидкістю'), 4),\n",
       " (('з', 'другого', 'боку'), 4),\n",
       " (('зі', 'скаженого', 'поїзда'), 2),\n",
       " (('біля', 'крайнього', 'столика'), 2),\n",
       " (('в', 'цілім', 'експресі'), 2),\n",
       " (('у', 'другім', 'місці'), 2),\n",
       " (('із', 'скаженого', 'поїзда'), 2),\n",
       " (('в', 'доброму', 'гуморі'), 2),\n",
       " (('у', 'вишиваних', 'сорочках'), 2),\n",
       " (('у', 'старого', 'сірка'), 2),\n",
       " (('в', 'надійні', 'руки'), 2),\n",
       " (('в', 'оленячій', 'голові'), 2),\n",
       " (('з', 'непокритою', 'головою'), 2),\n",
       " (('у', 'цілому', 'світі'), 2),\n",
       " (('під', 'рясним', 'дубом'), 2),\n",
       " (('в', \"кам'яних\", 'розсипах'), 2),\n",
       " (('під', 'григорієвим', 'куреником'), 2),\n",
       " (('з', 'дикого', 'каменю'), 2),\n",
       " (('в', 'другий', 'бік'), 2),\n",
       " (('у', 'нові', 'шати'), 2)]"
      ]
     },
     "execution_count": 45,
     "metadata": {},
     "output_type": "execute_result"
    }
   ],
   "source": [
    "most_freq_prep_adj_noun(corpus_t, 20)"
   ]
  },
  {
   "cell_type": "code",
   "execution_count": 46,
   "metadata": {},
   "outputs": [
    {
     "data": {
      "text/plain": [
       "[(('без', 'єдиного', 'цвяха'), 3),\n",
       " (('від', 'найменшого', 'доторку'), 2),\n",
       " (('з', 'другого', 'боку'), 2),\n",
       " (('з', 'розірваними', 'ланцюгами'), 2),\n",
       " (('під', 'ліхтарним', 'стовпом'), 2),\n",
       " (('з', 'ягорового', 'двору'), 2),\n",
       " (('у', 'білій', 'сорочці'), 2),\n",
       " (('з', 'засуканими', 'рукавами'), 2),\n",
       " (('з', 'городньої', 'бригади'), 2),\n",
       " (('в', 'дозаводські', 'часи'), 1),\n",
       " (('з', 'бокових', 'бань'), 1),\n",
       " (('між', 'плавкими', 'обрисами'), 1),\n",
       " (('з', 'соборної', 'висоти'), 1),\n",
       " (('в', 'місячнім', 'сяйві'), 1),\n",
       " (('в', 'розлогих', 'опуклостях'), 1),\n",
       " (('по', 'зачіплянському', 'килиму'), 1),\n",
       " (('з', 'кетяжистих', 'акацій'), 1),\n",
       " (('у', 'мудрій', 'злагоді'), 1),\n",
       " (('в', 'місячнім', 'мареві'), 1),\n",
       " (('під', 'навислим', 'цвітом'), 1)]"
      ]
     },
     "execution_count": 46,
     "metadata": {},
     "output_type": "execute_result"
    }
   ],
   "source": [
    "most_freq_prep_adj_noun(corpus_s, 20)"
   ]
  },
  {
   "cell_type": "code",
   "execution_count": 47,
   "metadata": {},
   "outputs": [],
   "source": [
    "def most_freq_verb_prep_noun(corpus, n):\n",
    "    \"Return the most common verb-prep-noun collocations.\"\n",
    "    collocs = Counter()\n",
    "    for i in range(2, len(corpus)):\n",
    "        word = corpus[i]\n",
    "        if word.tag.POS == \"NOUN\" and corpus[i-1].tag.POS == \"PREP\" and corpus[i-2].tag.POS == \"VERB\":\n",
    "            collocs[(corpus[i-2].normal_form, corpus[i-1].word, word.word)] += 1\n",
    "    return collocs.most_common(n)"
   ]
  },
  {
   "cell_type": "code",
   "execution_count": 48,
   "metadata": {},
   "outputs": [
    {
     "data": {
      "text/plain": [
       "[(('зірватися', 'з', 'місця'), 4),\n",
       " (('дивитися', 'у', 'вікно'), 3),\n",
       " (('дивитися', 'у', 'воду'), 3),\n",
       " (('тримати', 'попід', 'руки'), 2),\n",
       " (('бити', 'в', 'очі'), 2),\n",
       " (('вийняти', 'з', 'кишені'), 2),\n",
       " (('зняти', 'зі', 'стіни'), 2),\n",
       " (('бавитися', 'з', 'ведмежам'), 2),\n",
       " (('пірнути', 'в', 'нетрі'), 2),\n",
       " (('майнути', 'в', 'голові'), 2),\n",
       " (('бути', 'в', 'нім'), 2),\n",
       " ((\"з'їхати\", 'з', 'глузду'), 2),\n",
       " (('хукати', 'в', 'небо'), 2),\n",
       " (('випити', 'по', 'чарці'), 2),\n",
       " (('вилетіти', 'з', 'чорного'), 1),\n",
       " (('гнати', 'над', 'просторами'), 1),\n",
       " (('палахкотіти', 'над', 'проваллями'), 1),\n",
       " (('звиватися', 'над', 'прірвами'), 1),\n",
       " (('пролітати', 'із', 'свистом'), 1),\n",
       " (('гнати', 'у', 'безвість'), 1)]"
      ]
     },
     "execution_count": 48,
     "metadata": {},
     "output_type": "execute_result"
    }
   ],
   "source": [
    "most_freq_verb_prep_noun(corpus_t, 20)"
   ]
  },
  {
   "cell_type": "code",
   "execution_count": 49,
   "metadata": {},
   "outputs": [
    {
     "data": {
      "text/plain": [
       "[(('повертатися', 'з', 'інституту'), 2),\n",
       " (('сидіти', 'у', 'човні'), 2),\n",
       " (('взяти', 'в', 'риштовання'), 2),\n",
       " (('бути', 'для', 'людини'), 2),\n",
       " (('сісти', 'в', 'машину'), 2),\n",
       " (('зайти', 'в', 'тінь'), 2),\n",
       " (('шубовснути', 'у', 'воду'), 2),\n",
       " (('залежати', 'від', 'того'), 2),\n",
       " (('мати', 'у', 'собі'), 2),\n",
       " (('носити', 'у', 'собі'), 2),\n",
       " (('відправити', 'в', 'союз'), 2),\n",
       " (('існувати', 'в', 'реальності'), 1),\n",
       " (('поринати', 'в', 'сон'), 1),\n",
       " (('стояти', 'над', 'селищами'), 1),\n",
       " (('бурхати', 'у', 'небо'), 1),\n",
       " (('повипадати', 'з', 'гнізда'), 1),\n",
       " (('підвестися', 'над', 'гніздом'), 1),\n",
       " (('стояти', 'з', 'щілинами'), 1),\n",
       " (('затягтися', 'під', 'парканами'), 1),\n",
       " (('спати', 'під', 'наркозом'), 1)]"
      ]
     },
     "execution_count": 49,
     "metadata": {},
     "output_type": "execute_result"
    }
   ],
   "source": [
    "most_freq_verb_prep_noun(corpus_s, 20)"
   ]
  },
  {
   "cell_type": "code",
   "execution_count": 50,
   "metadata": {},
   "outputs": [],
   "source": [
    "def most_freq_conj_adj(corpus, n):\n",
    "    \"Return the most common adj-and-adj collocations.\"\n",
    "    collocs = Counter()\n",
    "    for i in range(2, len(corpus)):\n",
    "        word = corpus[i]\n",
    "        if word.tag.POS == \"ADJF\" and corpus[i-1].word == \"і\" and corpus[i-2].tag.POS == \"ADJF\":\n",
    "            collocs[(corpus[i-2].normal_form, corpus[i-1].word, word.normal_form)] += 1\n",
    "    return collocs.most_common(n)"
   ]
  },
  {
   "cell_type": "code",
   "execution_count": 51,
   "metadata": {},
   "outputs": [
    {
     "data": {
      "text/plain": [
       "[(('більший', 'і', 'менший'), 3),\n",
       " (('хоробрий', 'і', 'сміливий'), 2),\n",
       " (('гостинний', 'і', 'привітний'), 2),\n",
       " (('найбільший', 'і', 'найстрашніший'), 1),\n",
       " (('фантастичний', 'і', 'реальний'), 1),\n",
       " (('понурий', 'і', 'глибокий'), 1),\n",
       " (('тупий', 'і', 'байдужий'), 1),\n",
       " (('непокірний', 'і', 'гордий'), 1),\n",
       " (('волелюбний', 'і', 'сплюндрований'), 1),\n",
       " (('невідомий', 'і', 'вимріяний'), 1),\n",
       " (('найліпший', 'і', 'наймодерніший'), 1),\n",
       " (('пристосований', 'і', 'устаткований'), 1),\n",
       " (('радісний', 'і', 'святковий'), 1),\n",
       " (('експансивний', 'і', 'горластий'), 1),\n",
       " (('причепурений', 'і', 'розгальмований'), 1),\n",
       " (('цивільний', 'і', 'військовий'), 1),\n",
       " (('відкритий', 'і', 'зухвалий'), 1),\n",
       " (('реальний', 'і', 'напівфантастичний'), 1),\n",
       " (('розпливчастий', 'і', 'туманний'), 1),\n",
       " (('напружений', 'і', 'намагнетизовапий'), 1)]"
      ]
     },
     "execution_count": 51,
     "metadata": {},
     "output_type": "execute_result"
    }
   ],
   "source": [
    "most_freq_conj_adj(corpus_t, 20)"
   ]
  },
  {
   "cell_type": "code",
   "execution_count": 52,
   "metadata": {},
   "outputs": [
    {
     "data": {
      "text/plain": [
       "[(('денний', 'і', 'нічний'), 2),\n",
       " (('перший', 'і', 'останній'), 1),\n",
       " (('близький', 'і', 'дальший'), 1),\n",
       " (('вищий', 'і', 'нижчий'), 1),\n",
       " (('підступний', 'і', 'мстивий'), 1),\n",
       " (('мудрий', 'і', 'людяний'), 1),\n",
       " (('партійний', 'і', 'профспілковий'), 1),\n",
       " (('український', 'і', 'заводський'), 1),\n",
       " (('близький', 'і', 'далекий'), 1),\n",
       " (('розмлявлений', 'і', 'знудьгований'), 1),\n",
       " (('неминучий', 'і', 'незабарний'), 1),\n",
       " (('блідий', 'і', 'знекровлений'), 1),\n",
       " (('повний', 'і', 'чистий'), 1),\n",
       " (('мудрий', 'і', 'дужий'), 1)]"
      ]
     },
     "execution_count": 52,
     "metadata": {},
     "output_type": "execute_result"
    }
   ],
   "source": [
    "most_freq_conj_adj(corpus_s, 20)"
   ]
  },
  {
   "cell_type": "markdown",
   "metadata": {},
   "source": [
    "#### Як дослідити контексти слова?"
   ]
  },
  {
   "cell_type": "code",
   "execution_count": 53,
   "metadata": {},
   "outputs": [],
   "source": [
    "def show_concordance(corpus, lemma, n):\n",
    "    contexts = []\n",
    "    for i in range(len(corpus)):\n",
    "        if corpus[i].normal_form == lemma:\n",
    "            left_context = corpus[max(0, i-5) : i]\n",
    "            right_context = corpus[i+1 : min(i+6, len(corpus))]\n",
    "            left = \" \".join([word.word for word in left_context])\n",
    "            right = \" \".join([word.word for word in right_context])\n",
    "            contexts.append(\"{:30}\\t{:10}\\t{}\".format(left, corpus[i].word, right))\n",
    "    return contexts[:n]"
   ]
  },
  {
   "cell_type": "code",
   "execution_count": 54,
   "metadata": {},
   "outputs": [
    {
     "name": "stdout",
     "output_type": "stream",
     "text": [
      "начальник не їсть і не        \tспить     \t— все прибігає з поклоном\n",
      "ними коїться . вдень хочеться \tспати     \t, а вночі — їсти\n",
      "вже ні їсти , ні              \tспати     \t, а другі , навпаки\n",
      "до тільки їсти і тільки       \tспати     \t, а інші й ще\n",
      "й ще краще — могли            \tспати     \tі тільки спати . але\n",
      "— могли спати і тільки        \tспати     \t. але назагал , абсолютну\n",
      "? ото буде хлопцям тепло      \tспати     \t! — чорт візьми ,\n",
      ", закатованих ... ти лягатимеш\tспати     \t— і не зможеш заснути\n",
      "боявся , нарешті , сам        \tспати     \t— і одружився . а\n",
      "ковдру і прикинувся , що      \tспить     \t. в хату щось увійшло\n",
      "подумували , чи не вкладатися \tспати     \t. про вечерю не заїкнувся\n",
      "зручно щокою до сідла .       \tспить     \t. не спить . лежить\n",
      "сідла . спить . не            \tспить     \t. лежить нерухомо . заливай\n",
      "заплющила очі ? либонь ,      \tспить     \tсобі ... хай спить ...\n",
      ", спить собі ... хай          \tспить     \t... а діди тихо бубоніли\n",
      "— одтухав . потім ліг         \tспати     \t, але коли встав і\n",
      "стрельне ... і знову укладався\tспати     \t. вранці повернулись мисливці і\n",
      "ну , а тепер давай            \tспати     \t. тихо лиш , —\n",
      "боїться . і вони полягали     \tспати     \tна купі сухого бур'яну .\n",
      ", одкинувши горду голову .    \tспить     \t. туди не кинулись ,\n"
     ]
    }
   ],
   "source": [
    "for i in show_concordance(corpus_t, \"спати\", 20):\n",
    "    print(i)"
   ]
  },
  {
   "cell_type": "code",
   "execution_count": 55,
   "metadata": {},
   "outputs": [
    {
     "name": "stdout",
     "output_type": "stream",
     "text": [
      ", канючливих клопотів . міцно \tспить     \tпід наркозом акацій , що\n",
      ", совісно , люди ж            \tсплять    \t, тому й далі тільки\n",
      "тоді черга зачіплянці сміятись ...\tспить     \tстудент , довгов'язий смаглявець з\n",
      "шелестить вода по садках .    \tспить     \tтрудове передмістя , повите снами\n",
      "ступі не влучиш ... одначе    \tспати     \tпора . вставши , вірунька\n",
      "обережно поправила ті ноженята :\tспіть     \t, набігались за день .\n",
      "вікнами , в мене діти         \tсплять    \t. — і , прихиливши\n",
      "під законом , спокійно можуть \tспати     \t, а ця в постійній\n",
      ") , як відомо ,               \tсплять    \tхвостом до берега , мордою\n",
      "зорями ночуватимуть . і взимку\tспатимуть \tу лісі , в хутряних\n",
      "скине і в чисту постіль       \tспати     \tвкладе , бо ж годувальник\n",
      ": будьте лицарями ! солодко   \tсплять    \tлицарі , шкода й будити\n",
      ": — громадянине , не          \tспіть     \t. — я не спав\n",
      "прерікайтесь . гордий дуже .  \tспати     \tтреба було в електричці ,\n",
      ", бо на посту не              \tсплять    \t. нишком живе , не\n",
      "ясно : повечеряємо і будемо   \tспати     \t. показав навіть , як\n",
      "навіть , як ми будемо         \tспати     \t, поклавши голову на руку\n",
      "наша тайна вечеря . і         \tспати     \tвони мене поклали в курені\n",
      "сну , зорі їхні не            \tсплять    \t. сидить у човні посеред\n",
      ", і дипломовані філософи вже  \tсплять    \t— сторожі , ці невідомі\n"
     ]
    }
   ],
   "source": [
    "for i in show_concordance(corpus_s, \"спати\", 20):\n",
    "    print(i)"
   ]
  },
  {
   "cell_type": "markdown",
   "metadata": {},
   "source": [
    "## А як щодо інших текстів?"
   ]
  },
  {
   "cell_type": "markdown",
   "metadata": {},
   "source": [
    "Скопіюйте текст будь-якої новини. Наприклад, https://hromadske.ua/posts/ukrayina-evakuyuye-z-uhanya-razom-zi-svoyimi-gromadyanami-do-25-inozemciv-moz."
   ]
  },
  {
   "cell_type": "code",
   "execution_count": 56,
   "metadata": {},
   "outputs": [],
   "source": [
    "news = \"\"\"\n",
    "В Міністерстві охорони здоров’я повідомили, що Україна евакуює з карантинного міста Ухань китайської провінції Хубей 49 українців та до 25 іноземних громадян через смертельний коронавірус.\n",
    "Про це на брифінгу розповів заступник міністра охорони здоров’я Віктор Ляшко.\n",
    "\n",
    "«До 25 іноземних громадян. Хто ці особи вирішує Міністерство закордонних справ по дипломатичних каналах. Але вони усі будуть однаково проходити обсервацію, без різниці з якої країни», — зазначив чиновник.\n",
    "\n",
    "Також він додав, що наразі МОЗ обрало два медзаклади, куди доправлять евакуйованих на 14-денний карантин.\n",
    "\n",
    "«Сьогодні я їх не можу озвучити, але вони є, вони визначені і по них ведеться повна підготовка. Один основний, один резервний на випадок, якщо щось станеться під час моменту евакуації», — сказав Ляшко.\n",
    "\n",
    "На брифінгу він також повідомив, що евакуацію українців з китайської провінції Хубей, яка є епіцентром спалаху коронавірусу, знову перенесли. Раніше очікувалося, що літак з українцями прибуде у середу 19 лютого, тепер його очікують у четвер, 20 лютого.\n",
    "\n",
    "Раніше Міністерство закордонних справ Аргентини висловило подяку Україні за те, що українська влада погодилась разом зі своїми громадянами евакуювати й громадян Аргентини з китайського Уханя, епіцентру поширення коронавірусу. Скільки саме аргентинців забере український літак з Уханя, відомство не уточнило.\n",
    "\n",
    "За останніми даними, кількість людей, інфікованих китайським коронавірусом, збільшилась до 71 331. Через вірус померли 1 775 пацієнтів. У Гонконгу зафіксували 57 випадків інфікування та один смертельний випадок.\n",
    "\"\"\""
   ]
  },
  {
   "cell_type": "code",
   "execution_count": 57,
   "metadata": {},
   "outputs": [],
   "source": [
    "corpus_news = [morph.parse(word)[0] for word in tokenize_uk.tokenize_words(news)]"
   ]
  },
  {
   "cell_type": "code",
   "execution_count": 58,
   "metadata": {},
   "outputs": [
    {
     "data": {
      "text/plain": [
       "[('китайський', 4),\n",
       " ('громадянин', 4),\n",
       " ('коронавірус', 4),\n",
       " ('міністерство', 3),\n",
       " ('ухань', 3),\n",
       " ('українець', 3),\n",
       " ('випадок', 3),\n",
       " ('охорона', 2),\n",
       " ('здоров’я', 2),\n",
       " ('повідомити', 2)]"
      ]
     },
     "execution_count": 58,
     "metadata": {},
     "output_type": "execute_result"
    }
   ],
   "source": [
    "most_freq(corpus_news, 10)"
   ]
  },
  {
   "cell_type": "code",
   "execution_count": 59,
   "metadata": {},
   "outputs": [
    {
     "data": {
      "text/plain": [
       "[(('китайський', 'провінція'), 2),\n",
       " (('іноземний', 'громадянин'), 2),\n",
       " (('карантинний', 'місто'), 1),\n",
       " (('смертельний', 'коронавірус'), 1),\n",
       " (('дипломатичний', 'канал'), 1),\n",
       " (('14-денний', 'карантин'), 1),\n",
       " (('повний', 'підготовка'), 1),\n",
       " (('раніший', 'міністерство'), 1),\n",
       " (('український', 'влад'), 1),\n",
       " (('китайський', 'ухань'), 1)]"
      ]
     },
     "execution_count": 59,
     "metadata": {},
     "output_type": "execute_result"
    }
   ],
   "source": [
    "most_freq_colloc(corpus_news, 10)"
   ]
  },
  {
   "cell_type": "markdown",
   "metadata": {},
   "source": [
    "#### Продовження заняття можна знайти за цим посиланням:\n",
    "http://tiny.cc/0p63jz"
   ]
  },
  {
   "cell_type": "code",
   "execution_count": null,
   "metadata": {},
   "outputs": [],
   "source": []
  }
 ],
 "metadata": {
  "kernelspec": {
   "display_name": "Python 3",
   "language": "python",
   "name": "python3"
  },
  "language_info": {
   "codemirror_mode": {
    "name": "ipython",
    "version": 3
   },
   "file_extension": ".py",
   "mimetype": "text/x-python",
   "name": "python",
   "nbconvert_exporter": "python",
   "pygments_lexer": "ipython3",
   "version": "3.6.0"
  }
 },
 "nbformat": 4,
 "nbformat_minor": 2
}
